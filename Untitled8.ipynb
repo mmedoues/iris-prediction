{
  "nbformat": 4,
  "nbformat_minor": 0,
  "metadata": {
    "colab": {
      "provenance": [],
      "authorship_tag": "ABX9TyMGFHd+64qIBFbomVF3hJaG",
      "include_colab_link": true
    },
    "kernelspec": {
      "name": "python3",
      "display_name": "Python 3"
    },
    "language_info": {
      "name": "python"
    }
  },
  "cells": [
    {
      "cell_type": "markdown",
      "metadata": {
        "id": "view-in-github",
        "colab_type": "text"
      },
      "source": [
        "<a href=\"https://colab.research.google.com/github/mmedoues/iris-prediction/blob/main/Untitled8.ipynb\" target=\"_parent\"><img src=\"https://colab.research.google.com/assets/colab-badge.svg\" alt=\"Open In Colab\"/></a>"
      ]
    },
    {
      "cell_type": "code",
      "execution_count": 5,
      "metadata": {
        "id": "hSPP_lXT94p3"
      },
      "outputs": [],
      "source": [
        "import csv\n",
        "import random\n",
        "import operator\n",
        "import math"
      ]
    },
    {
      "cell_type": "code",
      "source": [
        "def loadDataset(filename, split, trainingSet=[], testSet=[]):\n",
        "    with open(filename, 'r') as csvfile:\n",
        "        lines = csv.reader(csvfile)\n",
        "        dataset = list(lines)\n",
        "        for x in range(len(dataset)-1):\n",
        "            for y in range(4):\n",
        "                dataset[x][y] = float(dataset[x][y])\n",
        "            if random.random() < split:\n",
        "                trainingSet.append(dataset[x])\n",
        "            else:\n",
        "                testSet.append(dataset[x])"
      ],
      "metadata": {
        "id": "mrxRY-mr97qP"
      },
      "execution_count": 6,
      "outputs": []
    },
    {
      "cell_type": "code",
      "source": [
        "def euclideanDistance(instance1, instance2, length):\n",
        "    distance = 0\n",
        "    for x in range(length):\n",
        "        distance += pow((instance1[x] - instance2[x]), 2)\n",
        "    return math.sqrt(distance)"
      ],
      "metadata": {
        "id": "_4bUBd4W_UVF"
      },
      "execution_count": 7,
      "outputs": []
    },
    {
      "cell_type": "code",
      "source": [
        "def getNeighbors(trainingSet, testInstance, k):\n",
        "    distances = []\n",
        "    length = len(testInstance)-1\n",
        "    for x in range(len(trainingSet)):\n",
        "        dist = euclideanDistance(testInstance, trainingSet[x], length)\n",
        "        distances.append((trainingSet[x], dist))\n",
        "    distances.sort(key=operator.itemgetter(1))\n",
        "    neighbors = []\n",
        "    for x in range(k):\n",
        "        neighbors.append(distances[x][0])\n",
        "    return neighbors"
      ],
      "metadata": {
        "id": "RipxWoiB_YSX"
      },
      "execution_count": 8,
      "outputs": []
    },
    {
      "cell_type": "code",
      "source": [
        "def getResponse(neighbors):\n",
        "    classVotes = {}\n",
        "    for x in range(len(neighbors)):\n",
        "        response = neighbors[x][-1]\n",
        "        if response in classVotes:\n",
        "            classVotes[response] += 1\n",
        "        else:\n",
        "            classVotes[response] = 1\n",
        "    sortedVotes = sorted(classVotes.items(), key=operator.itemgetter(1), reverse=True)\n",
        "    return sortedVotes[0][0]"
      ],
      "metadata": {
        "id": "4vs0MHwPGs1o"
      },
      "execution_count": 9,
      "outputs": []
    },
    {
      "cell_type": "code",
      "source": [
        "def getAccuracy(testSet, predictions):\n",
        "    correct = 0\n",
        "    for x in range(len(testSet)):\n",
        "        if testSet[x][-1] == predictions[x]:\n",
        "            correct += 1\n",
        "    return (correct/float(len(testSet))) * 100.0"
      ],
      "metadata": {
        "id": "1nxu_zywIp2y"
      },
      "execution_count": 10,
      "outputs": []
    },
    {
      "cell_type": "code",
      "source": [
        "def main():\n",
        "    #  data\n",
        "    trainingSet = []\n",
        "    testSet = []\n",
        "    loadDataset('iris.data.txt', 0.66, trainingSet, testSet)\n",
        "\n",
        "    #  predictions\n",
        "    predictions = []\n",
        "    k = 3\n",
        "    for x in range(len(testSet)):\n",
        "        neighbors = getNeighbors(trainingSet, testSet[x], k)\n",
        "        result = getResponse(neighbors)\n",
        "        predictions.append(result)\n",
        "\n",
        "    #  accuracy\n",
        "    accuracy = getAccuracy(testSet, predictions)\n",
        "    print('accuracy: ' + repr(accuracy) + '%')\n",
        "\n",
        "# Execute main function\n",
        "main()"
      ],
      "metadata": {
        "colab": {
          "base_uri": "https://localhost:8080/"
        },
        "id": "TyIuRL1NIyzy",
        "outputId": "10ec04f1-4094-41bc-c2b6-ab65b17c209d"
      },
      "execution_count": 26,
      "outputs": [
        {
          "output_type": "stream",
          "name": "stdout",
          "text": [
            "accuracy: 96.0%\n"
          ]
        }
      ]
    }
  ]
}